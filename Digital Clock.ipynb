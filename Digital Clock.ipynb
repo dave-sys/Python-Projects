{
 "cells": [
  {
   "cell_type": "code",
   "execution_count": 1,
   "metadata": {},
   "outputs": [],
   "source": [
    "import tkinter as tk\n",
    "import time\n",
    "\n",
    "root = tk.Tk()\n",
    "root.title(\"Digital Clock\")\n",
    "\n",
    "clock = tk.Label(root, font = (\"times\", 50, \"bold\"), fg = '#F5D7DB', bg = '#190019')\n",
    "clock.pack(fill = \"both\", expand = True)\n",
    "\n",
    "def time_update():\n",
    "    current_time = time.strftime(\"%H:%M:%S\")\n",
    "    clock.config(text = current_time)\n",
    "    clock.after(1000,time_update)\n",
    "    \n",
    "time_update()\n",
    "root.mainloop()"
   ]
  },
  {
   "cell_type": "code",
   "execution_count": 2,
   "metadata": {},
   "outputs": [],
   "source": [
    "import tkinter as tk\n",
    "import datetime\n",
    "\n",
    "window = tk.Tk()\n",
    "window.title(\"Clock\")\n",
    "\n",
    "label = tk.Label(window, text= \"Digital Time\", font= (\"calibri\", 30, \"bold\"), bg= \"#0F969C\").pack(fill= \"both\",side='top')\n",
    "\n",
    "time_ui = tk.Label(window, font= ('calibri', 60, \"bold\"), fg= \"#05161A\", bg= \"#0C7075\")\n",
    "time_ui.pack(fill= 'both', anchor= 'center', expand= True)\n",
    "date_ui = tk.Label(window, font= (\"Calibri\", 40, 'bold'), fg= \"#6DA5C0\", bg= '#072E33')\n",
    "date_ui.pack(fill= 'both', anchor= 'n', expand= True)\n",
    "\n",
    "def clock2():\n",
    "    date_time = datetime.datetime.now().strftime(\"%A, %B %d, %Y_%H:%M:%S/%p\")\n",
    "    date,time1 = date_time.split('_')\n",
    "    time2,time3 = time1.split('/')\n",
    "    hour,minutes,seconds = time2.split(':')\n",
    "    if int(hour) > 12 and int(hour)< 24:\n",
    "        time = str(int(hour) - 12) + ':' + minutes + ':' + seconds + ' ' + time3\n",
    "    else:\n",
    "        time = time2 + ' ' + time3\n",
    "    time_ui.config(text= time)\n",
    "    date_ui.config(text= date)\n",
    "    time_ui.after(1000,clock2)\n",
    "        \n",
    "clock2()\n",
    "window.mainloop()"
   ]
  },
  {
   "cell_type": "code",
   "execution_count": null,
   "metadata": {},
   "outputs": [],
   "source": [
    "'''\n",
    "#Looking at all the fonts available\n",
    "from tkinter import *\n",
    "from tkinter import font\n",
    "\n",
    "rootroot = Tk()\n",
    "\n",
    "list_fonts = list(font.families())\n",
    "print(list_fonts)\n",
    "'''"
   ]
  },
  {
   "cell_type": "code",
   "execution_count": null,
   "metadata": {},
   "outputs": [],
   "source": []
  },
  {
   "cell_type": "code",
   "execution_count": null,
   "metadata": {},
   "outputs": [],
   "source": []
  }
 ],
 "metadata": {
  "kernelspec": {
   "display_name": "Python 3",
   "language": "python",
   "name": "python3"
  },
  "language_info": {
   "codemirror_mode": {
    "name": "ipython",
    "version": 3
   },
   "file_extension": ".py",
   "mimetype": "text/x-python",
   "name": "python",
   "nbconvert_exporter": "python",
   "pygments_lexer": "ipython3",
   "version": "3.10.7"
  },
  "orig_nbformat": 4
 },
 "nbformat": 4,
 "nbformat_minor": 2
}
