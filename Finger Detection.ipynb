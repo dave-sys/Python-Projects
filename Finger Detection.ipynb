{
 "cells": [
  {
   "cell_type": "markdown",
   "metadata": {},
   "source": [
    "# Finger Detection:\n",
    "\n",
    "-How it works-\n",
    "\n",
    "cv2 is a library from the opencv that allows for image processing and provides features for object detection, face recognition, and tracking. This library will be used to capture the image from the webcam. \n",
    "\n",
    "mediapipe is a library that uses machine learning and artifical intelligence to an app. It particularly used for model dectection, classification, gestures, and more. \n",
    "This library will be used for hand landmark detection."
   ]
  },
  {
   "cell_type": "code",
   "execution_count": null,
   "metadata": {},
   "outputs": [],
   "source": [
    "import cv2\n",
    "import mediapipe as mp\n",
    "import time\n",
    "\n",
    "cap = cv2.VideoCapture(0) #videocapturing code\n",
    "mpHands = mp.solutions.hands \n",
    "hands = mpHands.Hands()\n",
    "mpDraw = mp.solutions.drawing_utils\n",
    "\n",
    "while True:\n",
    "    success, image = cap.read()\n",
    "    imgRGB = cv2.cvtColor(image, cv2.COLOR_BGR2RGB) #mediapipe uses rgb\n",
    "    results = hands.process(imgRGB)\n",
    "    \n",
    "    if results.multi_hand_landmarks: #the if statement checks for a hand detection \n",
    "        for handLms in results.multi_hand_landmarks: #the first loop handles the processing of each hands\n",
    "            for id, lm in enumerate(handLms.landmark): #the second loop uses the library of meidapipe for hand landmarks\n",
    "                \n",
    "                h,w,c = image.shape #this will find the height, width and color channel of the image aka the image from webcam\n",
    "                cx,cy = int(lm.x*w), int(lm.y*h) #this will find the coordinates from the x and y of finger in the image\n",
    "                \n",
    "                if id == 20: #this is a point in the hand landmark and can be changed to any of the 21 points of detection\n",
    "                    cv2.circle(image,(cx,cy),25, (255,0,255),cv2.FILLED) #this will create a filled circle around the point\n",
    "                    \n",
    "            mpDraw.draw_landmarks(image, handLms, mpHands.HAND_CONNECTIONS) #this will draw out all the points in the hand and connect them \n",
    "            \n",
    "            cv2.imshow(\"Output\", image) #this will display the image, which will dectect the user hands when put infornt of the camera in real time \n",
    "            cv2.waitKey(1)\n",
    "            \n",
    "            "
   ]
  }
 ],
 "metadata": {
  "kernelspec": {
   "display_name": "Python 3",
   "language": "python",
   "name": "python3"
  },
  "language_info": {
   "codemirror_mode": {
    "name": "ipython",
    "version": 3
   },
   "file_extension": ".py",
   "mimetype": "text/x-python",
   "name": "python",
   "nbconvert_exporter": "python",
   "pygments_lexer": "ipython3",
   "version": "3.10.11"
  },
  "orig_nbformat": 4
 },
 "nbformat": 4,
 "nbformat_minor": 2
}
